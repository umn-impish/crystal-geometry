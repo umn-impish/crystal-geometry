{
 "cells": [
  {
   "cell_type": "markdown",
   "metadata": {},
   "source": [
    "This example demonstrates how to use some of the built-in functions to build a world and run a ray tracing test."
   ]
  },
  {
   "cell_type": "code",
   "execution_count": null,
   "metadata": {},
   "outputs": [],
   "source": [
    "import numpy as np\n",
    "import pvtrace\n",
    "import scintillator_tracer as st"
   ]
  },
  {
   "cell_type": "markdown",
   "metadata": {},
   "source": [
    "# Set the angle\n",
    "\n",
    "Currently, only 20, 30, and 45 degrees angles are included by default."
   ]
  },
  {
   "cell_type": "code",
   "execution_count": null,
   "metadata": {},
   "outputs": [],
   "source": [
    "ANGLE = 45 # degrees"
   ]
  },
  {
   "cell_type": "markdown",
   "metadata": {},
   "source": [
    "# Define world using defaults\n",
    "\n",
    "We can use the functions defined in the \"world\" submodule in order to build the geometry.\n",
    "We will use the defaults to start."
   ]
  },
  {
   "cell_type": "code",
   "execution_count": null,
   "metadata": {},
   "outputs": [],
   "source": [
    "nodes = st.worlds.build_rod_wedge_world(angle=ANGLE)\n",
    "world = nodes['world']\n",
    "crystal = nodes['crystal']\n",
    "\n",
    "crystal_mid = (st.geometry_helpers.max_physical_value(crystal, 'z')+st.geometry_helpers.min_physical_value(crystal, 'z'))/2\n",
    "light = st.definitions.generate_scintillated_light_node(world, 'light')\n",
    "light.location = (0, 0, crystal_mid)\n",
    "\n",
    "scene = pvtrace.Scene(world)\n",
    "all_ray_steps = st.processing.process_photons_with_visual(scene, num_photons=100, seed=10, open_browser=True)"
   ]
  },
  {
   "cell_type": "markdown",
   "metadata": {},
   "source": [
    "## Event classification\n",
    "\n",
    "Check how many photons were absorbed by the different nodes."
   ]
  },
  {
   "cell_type": "code",
   "execution_count": null,
   "metadata": {},
   "outputs": [],
   "source": [
    "world = nodes['world']\n",
    "world_nodes = st.processing.get_nodes_from_world(world).values()\n",
    "classes = st.processing.organize_rays(all_ray_steps, world_nodes)\n",
    "for key in classes.keys():\n",
    "    print(key, len(classes[key]))"
   ]
  },
  {
   "cell_type": "markdown",
   "metadata": {},
   "source": [
    "# Define world with different optical pad thickness\n",
    "\n",
    "This is similar to before, but we will specify the optical pad shape to change its thickness."
   ]
  },
  {
   "cell_type": "code",
   "execution_count": null,
   "metadata": {},
   "outputs": [],
   "source": [
    "scaling = np.cos(np.radians(ANGLE))\n",
    "nodes = st.worlds.build_rod_wedge_world(\n",
    "    angle=ANGLE,\n",
    "    optical_pad_kwargs=dict(size=(0.4, 0.4/scaling, 0.1))\n",
    ")\n",
    "world = nodes['world']\n",
    "crystal = nodes['crystal']\n",
    "\n",
    "crystal_mid = (st.geometry_helpers.max_physical_value(crystal, 'z')+st.geometry_helpers.min_physical_value(crystal, 'z'))/2\n",
    "light = st.definitions.generate_scintillated_light_node(world, 'light')\n",
    "light.location = (0, 0, crystal_mid)\n",
    "\n",
    "scene = pvtrace.Scene(world)\n",
    "all_ray_steps = st.processing.process_photons_with_visual(scene, num_photons=100, seed=10, open_browser=True)"
   ]
  }
 ],
 "metadata": {
  "kernelspec": {
   "display_name": "Python 3",
   "language": "python",
   "name": "python3"
  },
  "language_info": {
   "codemirror_mode": {
    "name": "ipython",
    "version": 3
   },
   "file_extension": ".py",
   "mimetype": "text/x-python",
   "name": "python",
   "nbconvert_exporter": "python",
   "pygments_lexer": "ipython3",
   "version": "3.7.17"
  }
 },
 "nbformat": 4,
 "nbformat_minor": 2
}
