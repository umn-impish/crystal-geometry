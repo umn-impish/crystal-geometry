{
 "cells": [
  {
   "cell_type": "markdown",
   "metadata": {},
   "source": [
    "# Using the run `Manager` class\n",
    "\n",
    "This notebook shows you how to use the `Manager` class to define a world and emit photons at various points within the crystal to test how the collection efficiency changes depending on where the photons are scintillated."
   ]
  },
  {
   "cell_type": "code",
   "execution_count": null,
   "metadata": {},
   "outputs": [],
   "source": [
    "import numpy as np\n",
    "import pvtrace\n",
    "import scintillator_tracer as st"
   ]
  },
  {
   "cell_type": "markdown",
   "metadata": {},
   "source": [
    "# Verification\n",
    "\n",
    "This allows you to examine the geometry and make sure everything looks good."
   ]
  },
  {
   "cell_type": "code",
   "execution_count": null,
   "metadata": {},
   "outputs": [],
   "source": [
    "nodes = st.worlds.build_rod_world()\n",
    "world = nodes['world']\n",
    "crystal = nodes['crystal']\n",
    "\n",
    "crystal_mid = (st.geometry_helpers.max_physical_value(crystal, 'z')+st.geometry_helpers.min_physical_value(crystal, 'z'))/2\n",
    "light = st.definitions.generate_scintillated_light_node(world, 'light')\n",
    "light.location = (0, 0, crystal_mid)\n",
    "\n",
    "scene = pvtrace.Scene(world)\n",
    "all_ray_steps = st.processing.process_photons_with_visual(scene, num_photons=100, seed=10, open_browser=True)"
   ]
  },
  {
   "cell_type": "markdown",
   "metadata": {},
   "source": [
    "## Event classification\n",
    "\n",
    "This counts the fates of each photon, i.e. if and where they were absorbed."
   ]
  },
  {
   "cell_type": "code",
   "execution_count": null,
   "metadata": {},
   "outputs": [],
   "source": [
    "world = nodes['world']\n",
    "world_nodes = st.processing.get_nodes_from_world(world).values()\n",
    "print(world_nodes)\n",
    "out = st.processing.organize_rays(all_ray_steps, world_nodes)\n",
    "for key in out.keys():\n",
    "    print(key, len(out[key]))\n",
    "    print()\n",
    "print(len(out.all))\n",
    "print(out['absorb'][0][-1][0].position)\n",
    "ray_pos = out['absorb'][0][-1][0].position"
   ]
  },
  {
   "cell_type": "markdown",
   "metadata": {},
   "source": [
    "# Grid trials\n",
    "\n",
    "This is where we release photons at various points within the crystal and see where we get the best and worst performance."
   ]
  },
  {
   "cell_type": "code",
   "execution_count": null,
   "metadata": {},
   "outputs": [],
   "source": [
    "nodes = st.worlds.build_rod_world()\n",
    "crystal = nodes['crystal']\n",
    "\n",
    "zrange = (\n",
    "    st.geometry_helpers.min_physical_value(crystal, 'z')+0.5,\n",
    "    st.geometry_helpers.max_physical_value(crystal, 'z')-0.5,\n",
    ")\n",
    "yrange = (\n",
    "    st.geometry_helpers.min_physical_value(crystal, 'y')+0.1,\n",
    "    st.geometry_helpers.max_physical_value(crystal, 'y')-0.1,\n",
    ")\n",
    "\n",
    "crystal_width = st.geometry_helpers.max_physical_value(crystal, 'y') - st.geometry_helpers.min_physical_value(crystal, 'y')\n",
    "crystal_height = st.geometry_helpers.max_physical_value(crystal, 'z') - st.geometry_helpers.min_physical_value(crystal, 'z')\n",
    "cut_depth = crystal_width / np.tan(np.radians(90-30))"
   ]
  },
  {
   "cell_type": "markdown",
   "metadata": {},
   "source": [
    "This is when things get a little weird.\n",
    "We need to define the `horizontal_func` keyword in the `define_grid` method.\n",
    "This keyword specifies how the horizontal spacing (in this case, the `y` coordinate) of the grid points changes as a function of the vertical coordinate (in this case, `z`)."
   ]
  },
  {
   "cell_type": "code",
   "execution_count": null,
   "metadata": {},
   "outputs": [],
   "source": [
    "steps = 5 # Generates a 5x5 grid\n",
    "man = st.processing.Manager(\n",
    "    st.worlds.build_rod_world,\n",
    "    out_dir=f'rod/'\n",
    ")\n",
    "man.define_grid(\n",
    "    vertical_range=zrange,\n",
    "    horizontal_func=lambda z: yrange,\n",
    "    steps=steps,\n",
    "    visualize=True\n",
    ")"
   ]
  },
  {
   "cell_type": "markdown",
   "metadata": {},
   "source": [
    "## Run\n",
    "\n",
    "This will simulate the scintillation release at each grid with `photons_per_grid_point` at each point."
   ]
  },
  {
   "cell_type": "code",
   "execution_count": null,
   "metadata": {},
   "outputs": [],
   "source": [
    "runs = man.run(photons_per_grid_point=200, seed=100, visualize=False)"
   ]
  },
  {
   "cell_type": "markdown",
   "metadata": {},
   "source": [
    "Then, make the plots of what fraction of photons released at each grid were absorbed by each object."
   ]
  },
  {
   "cell_type": "code",
   "execution_count": null,
   "metadata": {},
   "outputs": [],
   "source": [
    "man.plot_all_ratios_absorbed()"
   ]
  }
 ],
 "metadata": {
  "kernelspec": {
   "display_name": "Python 3",
   "language": "python",
   "name": "python3"
  },
  "language_info": {
   "codemirror_mode": {
    "name": "ipython",
    "version": 3
   },
   "file_extension": ".py",
   "mimetype": "text/x-python",
   "name": "python",
   "nbconvert_exporter": "python",
   "pygments_lexer": "ipython3",
   "version": "3.7.17"
  }
 },
 "nbformat": 4,
 "nbformat_minor": 2
}
