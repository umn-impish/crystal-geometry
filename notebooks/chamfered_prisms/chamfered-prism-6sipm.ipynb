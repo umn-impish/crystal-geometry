{
 "cells": [
  {
   "cell_type": "code",
   "execution_count": null,
   "metadata": {},
   "outputs": [],
   "source": [
    "%load_ext autoreload\n",
    "%autoreload 2"
   ]
  },
  {
   "cell_type": "code",
   "execution_count": null,
   "metadata": {},
   "outputs": [],
   "source": [
    "import pvtrace\n",
    "import scintillator_tracer as st"
   ]
  },
  {
   "cell_type": "markdown",
   "metadata": {},
   "source": [
    "# Verification"
   ]
  },
  {
   "cell_type": "code",
   "execution_count": null,
   "metadata": {},
   "outputs": [],
   "source": [
    "world = st.worlds.build_triangular_prism_6sipm_world()['world']\n",
    "light = st.definitions.generate_scintillated_light_node(world)\n",
    "light.translate( (0,0,20) )\n",
    "scene = pvtrace.Scene(world)\n",
    "\n",
    "vis = pvtrace.MeshcatRenderer(open_browser=True)\n",
    "vis.render(scene)"
   ]
  },
  {
   "cell_type": "markdown",
   "metadata": {},
   "source": [
    "# Grid trials"
   ]
  },
  {
   "cell_type": "code",
   "execution_count": null,
   "metadata": {},
   "outputs": [],
   "source": [
    "nodes = st.worlds.build_triangular_prism_6sipm_world()\n",
    "crystal = nodes['crystal']\n",
    "\n",
    "zrange = (\n",
    "    st.geometry_helpers.min_physical_value(crystal, 'z')+5,\n",
    "    st.geometry_helpers.max_physical_value(crystal, 'z')-5,\n",
    ")\n",
    "yrange = (\n",
    "    st.geometry_helpers.min_physical_value(crystal, 'y')+1,\n",
    "    st.geometry_helpers.max_physical_value(crystal, 'y')-1,\n",
    ")"
   ]
  },
  {
   "cell_type": "code",
   "execution_count": null,
   "metadata": {},
   "outputs": [],
   "source": [
    "steps = 5\n",
    "man = st.processing.Manager(st.worlds.build_triangular_prism_6sipm_world, out_dir='chamfered_triangular_prism_6sipm/')\n",
    "man.define_grid(\n",
    "    vertical_range=zrange,\n",
    "    horizontal_func=lambda z: (-0.5*z-0.01, -(-0.5*z-0.01)),\n",
    "    steps=steps,\n",
    "    visualize=True\n",
    ")"
   ]
  },
  {
   "cell_type": "markdown",
   "metadata": {},
   "source": [
    "## Run\n",
    "\n",
    "There is a persisting geometry error with this one... Unsure why."
   ]
  },
  {
   "cell_type": "code",
   "execution_count": null,
   "metadata": {},
   "outputs": [],
   "source": [
    "runs = man.run(200, seed=100, visualize=False)"
   ]
  },
  {
   "cell_type": "code",
   "execution_count": null,
   "metadata": {},
   "outputs": [],
   "source": [
    "man.plot_all_ratios_absorbed()"
   ]
  }
 ],
 "metadata": {
  "kernelspec": {
   "display_name": "Python 3",
   "language": "python",
   "name": "python3"
  },
  "language_info": {
   "codemirror_mode": {
    "name": "ipython",
    "version": 3
   },
   "file_extension": ".py",
   "mimetype": "text/x-python",
   "name": "python",
   "nbconvert_exporter": "python",
   "pygments_lexer": "ipython3",
   "version": "3.7.17"
  }
 },
 "nbformat": 4,
 "nbformat_minor": 2
}
