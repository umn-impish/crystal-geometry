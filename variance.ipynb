{
 "cells": [
  {
   "cell_type": "code",
   "execution_count": 8,
   "metadata": {},
   "outputs": [],
   "source": [
    "import glob\n",
    "import numpy as np\n",
    "import scintillator_tracer as st"
   ]
  },
  {
   "cell_type": "code",
   "execution_count": 5,
   "metadata": {},
   "outputs": [
    {
     "name": "stdout",
     "output_type": "stream",
     "text": [
      "/home/reed/Documents/research/grimpress/crystal-geometry/notebooks/rods/rod/runs_20240720T101155//data/run01_rays_0.000x_-0.100y_0.510z.pkl\n",
      "/home/reed/Documents/research/grimpress/crystal-geometry/notebooks/rods/rod/runs_20240720T101155//data/run19_rays_0.000x_0.050y_2.760z.pkl\n",
      "/home/reed/Documents/research/grimpress/crystal-geometry/notebooks/rods/rod/runs_20240720T101155//data/run04_rays_0.000x_0.050y_0.510z.pkl\n",
      "/home/reed/Documents/research/grimpress/crystal-geometry/notebooks/rods/rod/runs_20240720T101155//data/run13_rays_0.000x_0.000y_2.010z.pkl\n",
      "/home/reed/Documents/research/grimpress/crystal-geometry/notebooks/rods/rod/runs_20240720T101155//data/run10_rays_0.000x_0.100y_1.260z.pkl\n",
      "/home/reed/Documents/research/grimpress/crystal-geometry/notebooks/rods/rod/runs_20240720T101155//data/run17_rays_0.000x_-0.050y_2.760z.pkl\n",
      "/home/reed/Documents/research/grimpress/crystal-geometry/notebooks/rods/rod/runs_20240720T101155//data/run11_rays_0.000x_-0.100y_2.010z.pkl\n",
      "/home/reed/Documents/research/grimpress/crystal-geometry/notebooks/rods/rod/runs_20240720T101155//data/run06_rays_0.000x_-0.100y_1.260z.pkl\n",
      "/home/reed/Documents/research/grimpress/crystal-geometry/notebooks/rods/rod/runs_20240720T101155//data/run14_rays_0.000x_0.050y_2.010z.pkl\n",
      "/home/reed/Documents/research/grimpress/crystal-geometry/notebooks/rods/rod/runs_20240720T101155//data/run15_rays_0.000x_0.100y_2.010z.pkl\n",
      "/home/reed/Documents/research/grimpress/crystal-geometry/notebooks/rods/rod/runs_20240720T101155//data/run03_rays_0.000x_0.000y_0.510z.pkl\n",
      "/home/reed/Documents/research/grimpress/crystal-geometry/notebooks/rods/rod/runs_20240720T101155//data/run22_rays_0.000x_-0.050y_3.510z.pkl\n",
      "/home/reed/Documents/research/grimpress/crystal-geometry/notebooks/rods/rod/runs_20240720T101155//data/run24_rays_0.000x_0.050y_3.510z.pkl\n",
      "/home/reed/Documents/research/grimpress/crystal-geometry/notebooks/rods/rod/runs_20240720T101155//data/run16_rays_0.000x_-0.100y_2.760z.pkl\n",
      "/home/reed/Documents/research/grimpress/crystal-geometry/notebooks/rods/rod/runs_20240720T101155//data/run23_rays_0.000x_0.000y_3.510z.pkl\n",
      "/home/reed/Documents/research/grimpress/crystal-geometry/notebooks/rods/rod/runs_20240720T101155//data/run18_rays_0.000x_0.000y_2.760z.pkl\n",
      "/home/reed/Documents/research/grimpress/crystal-geometry/notebooks/rods/rod/runs_20240720T101155//data/run12_rays_0.000x_-0.050y_2.010z.pkl\n",
      "/home/reed/Documents/research/grimpress/crystal-geometry/notebooks/rods/rod/runs_20240720T101155//data/run20_rays_0.000x_0.100y_2.760z.pkl\n",
      "/home/reed/Documents/research/grimpress/crystal-geometry/notebooks/rods/rod/runs_20240720T101155//data/run21_rays_0.000x_-0.100y_3.510z.pkl\n",
      "/home/reed/Documents/research/grimpress/crystal-geometry/notebooks/rods/rod/runs_20240720T101155//data/run08_rays_0.000x_0.000y_1.260z.pkl\n",
      "/home/reed/Documents/research/grimpress/crystal-geometry/notebooks/rods/rod/runs_20240720T101155//data/run07_rays_0.000x_-0.050y_1.260z.pkl\n",
      "/home/reed/Documents/research/grimpress/crystal-geometry/notebooks/rods/rod/runs_20240720T101155//data/run05_rays_0.000x_0.100y_0.510z.pkl\n",
      "/home/reed/Documents/research/grimpress/crystal-geometry/notebooks/rods/rod/runs_20240720T101155//data/run25_rays_0.000x_0.100y_3.510z.pkl\n",
      "/home/reed/Documents/research/grimpress/crystal-geometry/notebooks/rods/rod/runs_20240720T101155//data/run09_rays_0.000x_0.050y_1.260z.pkl\n",
      "/home/reed/Documents/research/grimpress/crystal-geometry/notebooks/rods/rod/runs_20240720T101155//data/run02_rays_0.000x_-0.050y_0.510z.pkl\n"
     ]
    }
   ],
   "source": [
    "rod_dir = '/home/reed/Documents/research/grimpress/crystal-geometry/notebooks/rods/rod/runs_20240720T101155/'\n",
    "runs = []\n",
    "pickles = glob.glob(f'{rod_dir}/data/*')\n",
    "for pickle in pickles:\n",
    "    print(pickle)\n",
    "    runs.append(st.processing.Run.load(pickle))"
   ]
  },
  {
   "cell_type": "code",
   "execution_count": 13,
   "metadata": {},
   "outputs": [
    {
     "name": "stdout",
     "output_type": "stream",
     "text": [
      "[[0.49  0.485 0.495 0.505 0.56 ]\n",
      " [0.5   0.495 0.45  0.48  0.51 ]\n",
      " [0.53  0.44  0.52  0.575 0.55 ]\n",
      " [0.49  0.51  0.52  0.5   0.52 ]\n",
      " [0.52  0.56  0.51  0.53  0.535]]\n",
      "0.5112000000000001\n",
      "9.6456e+00\n"
     ]
    }
   ],
   "source": [
    "x, y, s = st.plotting.prep_ratio_absorbed(runs, 'sipm_absorbed', (5,5))\n",
    "print(s)\n",
    "print(np.mean(s))\n",
    "print(f'{np.var(s*100):.4e}')"
   ]
  }
 ],
 "metadata": {
  "kernelspec": {
   "display_name": "Python 3",
   "language": "python",
   "name": "python3"
  },
  "language_info": {
   "codemirror_mode": {
    "name": "ipython",
    "version": 3
   },
   "file_extension": ".py",
   "mimetype": "text/x-python",
   "name": "python",
   "nbconvert_exporter": "python",
   "pygments_lexer": "ipython3",
   "version": "3.7.17"
  }
 },
 "nbformat": 4,
 "nbformat_minor": 2
}
